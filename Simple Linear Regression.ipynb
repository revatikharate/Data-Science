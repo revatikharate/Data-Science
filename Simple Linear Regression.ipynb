{
 "cells": [
  {
   "cell_type": "markdown",
   "metadata": {},
   "source": [
    "# Chapter 3 - Regressoin Models\n",
    "## Segment 1 - Simple linear regression"
   ]
  },
  {
   "cell_type": "code",
   "execution_count": 1,
   "metadata": {},
   "outputs": [],
   "source": [
    "import numpy as np\n",
    "import pandas as pd\n",
    "import matplotlib.pyplot as plt\n",
    "import sklearn\n",
    "\n",
    "from pylab import rcParams\n",
    "from sklearn.linear_model import LinearRegression\n",
    "from sklearn.preprocessing import scale"
   ]
  },
  {
   "cell_type": "code",
   "execution_count": 5,
   "metadata": {},
   "outputs": [],
   "source": [
    "%matplotlib inline\n",
    "rcParams['figure.figsize'] = 10,8"
   ]
  },
  {
   "cell_type": "code",
   "execution_count": 6,
   "metadata": {},
   "outputs": [
    {
     "data": {
      "text/plain": [
       "array([[4.33019481],\n",
       "       [3.5398219 ],\n",
       "       [3.71525968],\n",
       "       [4.51976554],\n",
       "       [3.48915197],\n",
       "       [4.25041077],\n",
       "       [4.04243206],\n",
       "       [3.57173569],\n",
       "       [3.37326607],\n",
       "       [3.02526893],\n",
       "       [4.30423244],\n",
       "       [3.94840363],\n",
       "       [4.03436058],\n",
       "       [4.15843967],\n",
       "       [4.53162457],\n",
       "       [4.29092888],\n",
       "       [4.43079795],\n",
       "       [4.20708865],\n",
       "       [3.01542987]])"
      ]
     },
     "execution_count": 6,
     "metadata": {},
     "output_type": "execute_result"
    }
   ],
   "source": [
    "rooms = 2*np.random.rand(100, 1)+ 3\n",
    "rooms[1:20]"
   ]
  },
  {
   "cell_type": "code",
   "execution_count": 8,
   "metadata": {},
   "outputs": [
    {
     "data": {
      "text/plain": [
       "array([[271.43638551],\n",
       "       [266.47043579],\n",
       "       [267.9796394 ],\n",
       "       [272.48849782],\n",
       "       [266.21565514],\n",
       "       [270.64736224],\n",
       "       [269.57214746],\n",
       "       [267.40612474],\n",
       "       [265.67328947],\n",
       "       [263.63383896],\n",
       "       [271.14583112],\n",
       "       [268.83523404],\n",
       "       [269.33172307],\n",
       "       [270.47232511],\n",
       "       [273.13566936],\n",
       "       [271.72269949],\n",
       "       [272.43711585],\n",
       "       [270.245335  ],\n",
       "       [263.40563317],\n",
       "       [271.27399812],\n",
       "       [274.09087091],\n",
       "       [266.70746414],\n",
       "       [273.74424828],\n",
       "       [264.56889531]])"
      ]
     },
     "execution_count": 8,
     "metadata": {},
     "output_type": "execute_result"
    }
   ],
   "source": [
    "price = 245 + 6*rooms+abs(np.random.rand(100,1))\n",
    "price[1:25]"
   ]
  },
  {
   "cell_type": "code",
   "execution_count": 11,
   "metadata": {},
   "outputs": [
    {
     "data": {
      "image/png": "[encoded data removed]",
      "text/plain": [
       "<Figure size 720x576 with 1 Axes>"
      ]
     },
     "metadata": {
      "needs_background": "light"
     },
     "output_type": "display_data"
    }
   ],
   "source": [
    "plt.plot(rooms, price, 'r^')\n",
    "plt.xlabel('No of rooms')\n",
    "plt.ylabel('Price')\n",
    "plt.show()"
   ]
  },
  {
   "cell_type": "code",
   "execution_count": 15,
   "metadata": {},
   "outputs": [
    {
     "name": "stdout",
     "output_type": "stream",
     "text": [
      "[245.27218316] [[6.07144757]]\n"
     ]
    }
   ],
   "source": [
    "X = rooms\n",
    "y = price\n",
    "LinRegre = LinearRegression()\n",
    "LinRegre.fit(X, y)\n",
    "print(LinRegre.intercept_, LinRegre.coef_)"
   ]
  },
  {
   "cell_type": "markdown",
   "metadata": {},
   "source": [
    "*Simple Algebra*\n",
    "- y = mx + b\n",
    "- b = intercept = 265.7\n",
    "\n",
    "*Estimated Coefficients*\n",
    "- LinReg.coef_ = [5.99] Estimated coefficients for the terms in the linear regression problem."
   ]
  },
  {
   "cell_type": "code",
   "execution_count": 18,
   "metadata": {},
   "outputs": [
    {
     "name": "stdout",
     "output_type": "stream",
     "text": [
      "0.9925634222497003\n"
     ]
    }
   ],
   "source": [
    "print(LinRegre.score(X,y))"
   ]
  },
  {
   "cell_type": "code",
   "execution_count": null,
   "metadata": {},
   "outputs": [],
   "source": []
  }
 ],
 "metadata": {
  "kernelspec": {
   "display_name": "Python 3 (ipykernel)",
   "language": "python",
   "name": "python3"
  },
  "language_info": {
   "codemirror_mode": {
    "name": "ipython",
    "version": 3
   },
   "file_extension": ".py",
   "mimetype": "text/x-python",
   "name": "python",
   "nbconvert_exporter": "python",
   "pygments_lexer": "ipython3",
   "version": "3.9.7"
  },
  "nav_menu": {
   "height": "279px",
   "width": "309px"
  },
  "toc": {
   "navigate_menu": true,
   "number_sections": true,
   "sideBar": true,
   "threshold": 6,
   "toc_cell": false,
   "toc_section_display": "block",
   "toc_window_display": false
  }
 },
 "nbformat": 4,
 "nbformat_minor": 1
}
